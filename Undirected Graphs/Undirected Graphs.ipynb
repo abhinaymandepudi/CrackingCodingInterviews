{
 "cells": [
  {
   "cell_type": "markdown",
   "metadata": {},
   "source": [
    "# Graph Representation"
   ]
  },
  {
   "cell_type": "markdown",
   "metadata": {},
   "source": [
    "Vertex Representation <br>\n",
    "Use integers b/w 0 and V-1"
   ]
  },
  {
   "cell_type": "markdown",
   "metadata": {},
   "source": [
    "![Graph API](graphApi.png \"Title\")"
   ]
  },
  {
   "cell_type": "markdown",
   "metadata": {},
   "source": [
    "![Static Methods](staticMethods.png \"Title\")"
   ]
  },
  {
   "cell_type": "markdown",
   "metadata": {},
   "source": [
    "Possible Representations<br>\n",
    "1. Adjacency List\n",
    "2. Adjacency Matrix : too much space though. V2"
   ]
  },
  {
   "cell_type": "markdown",
   "metadata": {
    "ExecuteTime": {
     "end_time": "2018-04-18T02:26:05.741189Z",
     "start_time": "2018-04-18T02:26:05.621616Z"
    }
   },
   "source": [
    "![Adjacency List](adjacencyList.png \"Title\")"
   ]
  },
  {
   "cell_type": "markdown",
   "metadata": {},
   "source": [
    "Sparse and Dense "
   ]
  },
  {
   "cell_type": "markdown",
   "metadata": {},
   "source": [
    "# Depth First Search"
   ]
  },
  {
   "cell_type": "markdown",
   "metadata": {},
   "source": [
    "![DFS](DFS.png \"DFS\")\n",
    "![DFS](DFSAlgo.png \"DFS\")"
   ]
  },
  {
   "cell_type": "code",
   "execution_count": 14,
   "metadata": {
    "ExecuteTime": {
     "end_time": "2018-04-18T08:08:57.864505Z",
     "start_time": "2018-04-18T08:08:57.855955Z"
    }
   },
   "outputs": [],
   "source": [
    "class Graph:\n",
    "    def __init__(self,V):\n",
    "        self.V = V\n",
    "        self.adj = []\n",
    "        for i in range(V):\n",
    "            self.adj += [[]]\n",
    "        \n",
    "    def addEdge(edge):\n",
    "        try:\n",
    "        self.adj[edge[0]] = edge[[1]]\n",
    "        self.adj[edge[1]] = edge[[2]]\n",
    "    print (\"yo\")\n",
    "except IndexError:"
   ]
  },
  {
   "cell_type": "code",
   "execution_count": 15,
   "metadata": {
    "ExecuteTime": {
     "end_time": "2018-04-18T08:09:11.477774Z",
     "start_time": "2018-04-18T08:09:11.474785Z"
    }
   },
   "outputs": [],
   "source": [
    "g = Graph(34)"
   ]
  },
  {
   "cell_type": "code",
   "execution_count": null,
   "metadata": {
    "ExecuteTime": {
     "end_time": "2018-04-18T08:09:16.178566Z",
     "start_time": "2018-04-18T08:09:16.171884Z"
    }
   },
   "outputs": [],
   "source": []
  },
  {
   "cell_type": "code",
   "execution_count": 17,
   "metadata": {
    "ExecuteTime": {
     "end_time": "2018-04-18T08:11:06.749646Z",
     "start_time": "2018-04-18T08:11:06.746405Z"
    }
   },
   "outputs": [],
   "source": [
    "a = [33]"
   ]
  },
  {
   "cell_type": "code",
   "execution_count": 19,
   "metadata": {
    "ExecuteTime": {
     "end_time": "2018-04-18T08:13:20.239147Z",
     "start_time": "2018-04-18T08:13:20.234095Z"
    }
   },
   "outputs": [
    {
     "name": "stdout",
     "output_type": "stream",
     "text": [
      "fuck\n"
     ]
    }
   ],
   "source": [
    "try:\n",
    "    a[2] = 34\n",
    "    print (\"yo\")\n",
    "except IndexError:\n",
    "    print (\"fuck\")"
   ]
  },
  {
   "cell_type": "code",
   "execution_count": null,
   "metadata": {},
   "outputs": [],
   "source": []
  }
 ],
 "metadata": {
  "kernelspec": {
   "display_name": "Python 3",
   "language": "python",
   "name": "python3"
  },
  "language_info": {
   "codemirror_mode": {
    "name": "ipython",
    "version": 3
   },
   "file_extension": ".py",
   "mimetype": "text/x-python",
   "name": "python",
   "nbconvert_exporter": "python",
   "pygments_lexer": "ipython3",
   "version": "3.6.4"
  }
 },
 "nbformat": 4,
 "nbformat_minor": 2
}
