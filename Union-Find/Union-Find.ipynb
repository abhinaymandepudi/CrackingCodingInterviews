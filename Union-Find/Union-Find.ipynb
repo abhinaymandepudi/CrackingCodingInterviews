{
 "cells": [
  {
   "cell_type": "markdown",
   "metadata": {},
   "source": [
    "# Union Find\n",
    "with Path Compression"
   ]
  },
  {
   "cell_type": "code",
   "execution_count": 11,
   "metadata": {},
   "outputs": [],
   "source": [
    "class QuickFindUF(object):\n",
    "    id = []\n",
    "    size = []\n",
    "    def __init__(self,N):\n",
    "        self.id = [i for i in range(N)]\n",
    "        self.size = [1]*N\n",
    "    def connected(p,q):\n",
    "        return root(p) == root(q)\n",
    "    def root(i):\n",
    "        while i != id[i]:\n",
    "            i = id[i]\n",
    "        return i\n",
    "    def union(p,q):\n",
    "        pi = root(p)\n",
    "        qi = root(q)\n",
    "        if pi == pj: return\n",
    "        if size[pi] < size[qi]:\n",
    "            id[pi] = qi\n",
    "            size[qi] += size[pi]\n",
    "        else:\n",
    "            id[qi] = pi\n",
    "            size[pi] += size[qi]\n",
    "        return\n"
   ]
  },
  {
   "cell_type": "markdown",
   "metadata": {},
   "source": [
    "Running Time:<br>\n",
    "Find : Takes time proportional to depth of node1 and node2<br>\n",
    "Union : Takes O(logN){includes cost of finding roots} <br>\n",
    "Note: Depth of any node x is at most logN"
   ]
  },
  {
   "cell_type": "code",
   "execution_count": null,
   "metadata": {},
   "outputs": [],
   "source": []
  }
 ],
 "metadata": {
  "kernelspec": {
   "display_name": "Python 3",
   "language": "python",
   "name": "python3"
  },
  "language_info": {
   "codemirror_mode": {
    "name": "ipython",
    "version": 3
   },
   "file_extension": ".py",
   "mimetype": "text/x-python",
   "name": "python",
   "nbconvert_exporter": "python",
   "pygments_lexer": "ipython3",
   "version": "3.6.4"
  }
 },
 "nbformat": 4,
 "nbformat_minor": 2
}
