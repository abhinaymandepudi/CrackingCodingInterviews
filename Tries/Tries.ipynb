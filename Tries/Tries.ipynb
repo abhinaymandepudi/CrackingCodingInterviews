{
 "cells": [
  {
   "cell_type": "code",
   "execution_count": 115,
   "metadata": {
    "ExecuteTime": {
     "end_time": "2018-06-04T22:33:45.515971Z",
     "start_time": "2018-06-04T22:33:45.403358Z"
    }
   },
   "outputs": [],
   "source": [
    "class Trie:\n",
    "\n",
    "    def __init__(self,value = False):\n",
    "        \"\"\"\n",
    "        Initialize your data structure here.\n",
    "        \"\"\"\n",
    "        self.end = False\n",
    "        self.children = dict()\n",
    "\n",
    "    def insert(self, word):\n",
    "        \"\"\"\n",
    "        Inserts a word into the trie.\n",
    "        :type word: str\n",
    "        :rtype: void\n",
    "        \"\"\"\n",
    "        temp = self\n",
    "        for char in word:\n",
    "            if char not in temp.children:\n",
    "                temp.children[char] = Trie()\n",
    "                temp.children[char].children = dict()\n",
    "            temp = temp.children[char]\n",
    "        temp.end = True\n",
    "        return\n",
    "        \n",
    "\n",
    "    def search(self, word):\n",
    "        \"\"\"\n",
    "        Returns if the word is in the trie.\n",
    "        :type word: str\n",
    "        :rtype: bool\n",
    "        \"\"\"\n",
    "        temp = self\n",
    "        status = False\n",
    "        for char in word:\n",
    "            if char in temp.children:\n",
    "                temp = temp.children[char]\n",
    "                status = temp.end\n",
    "            else:\n",
    "                status = False\n",
    "                return False\n",
    "        if status == True:\n",
    "            return True\n",
    "        else:\n",
    "            return False\n",
    "        \n",
    "            \n",
    "    \n",
    "\n",
    "    def startsWith(self, prefix):\n",
    "        \"\"\"\n",
    "        Returns if there is any word in the trie that starts with the given prefix.\n",
    "        :type prefix: str\n",
    "        :rtype: bool\n",
    "        \"\"\"\n",
    "        temp = self\n",
    "        for char in word:\n",
    "            if char in temp.children:\n",
    "                temp = temp.children[char]\n",
    "            else:\n",
    "                return False\n",
    "        return True\n",
    "        \n",
    "\n",
    "\n",
    "# Your Trie object will be instantiated and called as such:\n",
    "# obj = Trie()\n",
    "# obj.insert(word)\n",
    "# param_2 = obj.search(word)\n",
    "# param_3 = obj.startsWith(prefix)"
   ]
  },
  {
   "cell_type": "code",
   "execution_count": 116,
   "metadata": {
    "ExecuteTime": {
     "end_time": "2018-06-04T22:33:47.018301Z",
     "start_time": "2018-06-04T22:33:47.014905Z"
    }
   },
   "outputs": [],
   "source": [
    "root = Trie()"
   ]
  },
  {
   "cell_type": "code",
   "execution_count": 271,
   "metadata": {
    "ExecuteTime": {
     "end_time": "2018-06-05T00:10:04.407979Z",
     "start_time": "2018-06-05T00:10:04.317859Z"
    }
   },
   "outputs": [],
   "source": [
    "class MapSum:\n",
    "\n",
    "    def __init__(self):\n",
    "        \"\"\"\n",
    "        Initialize your data structure here.\n",
    "        \"\"\"\n",
    "        self.value = 0\n",
    "        self.end = False\n",
    "        self.children = dict()\n",
    "        \n",
    "\n",
    "    def insert(self, key, val):\n",
    "        \"\"\"\n",
    "        :type key: str\n",
    "        :type val: int\n",
    "        :rtype: void\n",
    "        \"\"\"\n",
    "        temp = self\n",
    "        for char in key:\n",
    "            if char not in temp.children:\n",
    "                temp.children[char] = MapSum()\n",
    "                temp.children[char].children = dict()\n",
    "            temp = temp.children[char]\n",
    "            temp.value += val\n",
    "        if temp.end == False:\n",
    "            temp.end = True\n",
    "        else:\n",
    "            \n",
    "            oldValue = temp.value - val\n",
    "            temp = self\n",
    "            for char in key:\n",
    "                if char in temp.children:\n",
    "                    temp.children[char].value -= oldValue  \n",
    "                    temp = temp.children[char]\n",
    "        return\n",
    "\n",
    "    def sum(self, prefix):\n",
    "        \"\"\"\n",
    "        :type prefix: str\n",
    "        :rtype: int\n",
    "        \"\"\"\n",
    "        temp = self\n",
    "        value = 0\n",
    "        for char in prefix:\n",
    "            if char in temp.children:\n",
    "                temp = temp.children[char]\n",
    "                value = temp.value\n",
    "            else:\n",
    "                return 0\n",
    "        return value\n",
    "    \n",
    "        \n",
    "\n",
    "\n",
    "# Your MapSum object will be instantiated and called as such:\n",
    "# obj = MapSum()\n",
    "# obj.insert(key,val)\n",
    "# param_2 = obj.sum(prefix)"
   ]
  },
  {
   "cell_type": "code",
   "execution_count": 272,
   "metadata": {
    "ExecuteTime": {
     "end_time": "2018-06-05T00:10:05.024528Z",
     "start_time": "2018-06-05T00:10:05.013945Z"
    }
   },
   "outputs": [
    {
     "data": {
      "text/plain": [
       "2"
      ]
     },
     "execution_count": 272,
     "metadata": {},
     "output_type": "execute_result"
    }
   ],
   "source": [
    "root = MapSum()\n",
    "root.insert(\"aa\",3)\n",
    "root.sum(\"a\")\n",
    "root.insert(\"ab\",2)\n",
    "root.sum(\"a\")\n",
    "root.sum(\"ab\")"
   ]
  },
  {
   "cell_type": "code",
   "execution_count": 270,
   "metadata": {
    "ExecuteTime": {
     "end_time": "2018-06-05T00:09:39.083643Z",
     "start_time": "2018-06-05T00:09:39.077808Z"
    }
   },
   "outputs": [
    {
     "data": {
      "text/plain": [
       "2"
      ]
     },
     "execution_count": 270,
     "metadata": {},
     "output_type": "execute_result"
    }
   ],
   "source": [
    "root.children[\"a\"].children[\"b\"].value"
   ]
  },
  {
   "cell_type": "code",
   "execution_count": 273,
   "metadata": {
    "ExecuteTime": {
     "end_time": "2018-06-05T00:10:18.819959Z",
     "start_time": "2018-06-05T00:10:18.813592Z"
    }
   },
   "outputs": [
    {
     "data": {
      "text/plain": [
       "5"
      ]
     },
     "execution_count": 273,
     "metadata": {},
     "output_type": "execute_result"
    }
   ],
   "source": [
    "root.children[\"a\"].value"
   ]
  },
  {
   "cell_type": "code",
   "execution_count": 161,
   "metadata": {
    "ExecuteTime": {
     "end_time": "2018-06-04T23:26:04.948708Z",
     "start_time": "2018-06-04T23:26:04.941541Z"
    }
   },
   "outputs": [
    {
     "data": {
      "text/plain": [
       "0"
      ]
     },
     "execution_count": 161,
     "metadata": {},
     "output_type": "execute_result"
    }
   ],
   "source": [
    "root.sum(\"aa\")"
   ]
  },
  {
   "cell_type": "code",
   "execution_count": null,
   "metadata": {
    "ExecuteTime": {
     "end_time": "2018-06-04T20:38:51.729129Z",
     "start_time": "2018-06-04T20:38:51.725085Z"
    }
   },
   "outputs": [],
   "source": []
  },
  {
   "cell_type": "code",
   "execution_count": 274,
   "metadata": {
    "ExecuteTime": {
     "end_time": "2018-06-05T05:27:41.187456Z",
     "start_time": "2018-06-05T05:27:41.176112Z"
    }
   },
   "outputs": [],
   "source": [
    "a = dict()"
   ]
  },
  {
   "cell_type": "code",
   "execution_count": 275,
   "metadata": {
    "ExecuteTime": {
     "end_time": "2018-06-05T05:27:51.855614Z",
     "start_time": "2018-06-05T05:27:51.851999Z"
    }
   },
   "outputs": [],
   "source": [
    "a[\"ef\"] = 33"
   ]
  },
  {
   "cell_type": "code",
   "execution_count": 276,
   "metadata": {
    "ExecuteTime": {
     "end_time": "2018-06-05T05:28:01.237171Z",
     "start_time": "2018-06-05T05:28:01.228872Z"
    }
   },
   "outputs": [
    {
     "name": "stdout",
     "output_type": "stream",
     "text": [
      "ef\n"
     ]
    }
   ],
   "source": [
    "for each in a:\n",
    "    print (each)"
   ]
  },
  {
   "cell_type": "code",
   "execution_count": 277,
   "metadata": {
    "ExecuteTime": {
     "end_time": "2018-06-05T15:41:20.595251Z",
     "start_time": "2018-06-05T15:41:20.573485Z"
    }
   },
   "outputs": [
    {
     "name": "stdout",
     "output_type": "stream",
     "text": [
      "0 3\n",
      "1 4\n",
      "2 5\n",
      "3 6\n"
     ]
    }
   ],
   "source": [
    "a = [3,4,5,6]\n",
    "for i,j in enumerate(a):\n",
    "    print (i,j)"
   ]
  },
  {
   "cell_type": "code",
   "execution_count": 279,
   "metadata": {
    "ExecuteTime": {
     "end_time": "2018-06-06T22:49:25.674301Z",
     "start_time": "2018-06-06T22:49:25.662084Z"
    }
   },
   "outputs": [
    {
     "data": {
      "text/plain": [
       "[1, 2, 3, 23]"
      ]
     },
     "execution_count": 279,
     "metadata": {},
     "output_type": "execute_result"
    }
   ],
   "source": [
    "def adder(m):\n",
    "    m.append(23)\n",
    "    return\n",
    "l = [1,2,3]\n",
    "adder(l)\n",
    "l"
   ]
  },
  {
   "cell_type": "code",
   "execution_count": 299,
   "metadata": {
    "ExecuteTime": {
     "end_time": "2018-06-07T00:57:06.479842Z",
     "start_time": "2018-06-07T00:57:06.469508Z"
    }
   },
   "outputs": [
    {
     "data": {
      "text/plain": [
       "[2, 1]"
      ]
     },
     "execution_count": 299,
     "metadata": {},
     "output_type": "execute_result"
    }
   ],
   "source": [
    "a = [1,2]\n",
    "b = a[::-1]\n",
    "b"
   ]
  },
  {
   "cell_type": "code",
   "execution_count": 294,
   "metadata": {
    "ExecuteTime": {
     "end_time": "2018-06-07T00:51:52.419254Z",
     "start_time": "2018-06-07T00:51:52.394499Z"
    }
   },
   "outputs": [],
   "source": [
    "def ascii_deletion_distance(str1, str2):\n",
    "    \n",
    "    s1 = dict()\n",
    "    for char in str1:\n",
    "        if char in s1:\n",
    "            s1[char] += 1\n",
    "        else:\n",
    "            s1[char] = 1\n",
    "    s2 = dict()\n",
    "    for char in str2:\n",
    "        if char in s2:\n",
    "            s2[char] += 1\n",
    "        else:\n",
    "            s2[char] = 1      \n",
    "    \n",
    "    all_chars = set(list(str1) + list(str2))\n",
    "    count = 0\n",
    "    for char in all_chars:\n",
    "        if char not in s1:\n",
    "            count += ord(char)*(s2[char]) \n",
    "        elif char not in s2:\n",
    "            count += ord(char)*(s1[char]) \n",
    "        else:\n",
    "            count += ord(char)*abs(s1[char] - s2[char])\n",
    "    return count"
   ]
  },
  {
   "cell_type": "code",
   "execution_count": 287,
   "metadata": {
    "ExecuteTime": {
     "end_time": "2018-06-07T00:48:55.864970Z",
     "start_time": "2018-06-07T00:48:55.855370Z"
    }
   },
   "outputs": [
    {
     "data": {
      "text/plain": [
       "1"
      ]
     },
     "execution_count": 287,
     "metadata": {},
     "output_type": "execute_result"
    }
   ],
   "source": [
    "abs(-1)"
   ]
  },
  {
   "cell_type": "code",
   "execution_count": null,
   "metadata": {},
   "outputs": [],
   "source": []
  }
 ],
 "metadata": {
  "kernelspec": {
   "display_name": "Python 3",
   "language": "python",
   "name": "python3"
  },
  "language_info": {
   "codemirror_mode": {
    "name": "ipython",
    "version": 3
   },
   "file_extension": ".py",
   "mimetype": "text/x-python",
   "name": "python",
   "nbconvert_exporter": "python",
   "pygments_lexer": "ipython3",
   "version": "3.6.4"
  }
 },
 "nbformat": 4,
 "nbformat_minor": 2
}
