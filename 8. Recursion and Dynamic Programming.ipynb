{
 "cells": [
  {
   "cell_type": "markdown",
   "metadata": {},
   "source": [
    "First we try to solve Fibonacci Numbers.<br>\n",
    "Let's Start with a basic recursive approach and discuss about it's running time."
   ]
  },
  {
   "cell_type": "code",
   "execution_count": 1,
   "metadata": {},
   "outputs": [],
   "source": [
    "def FibonacciNormal(n):\n",
    "    if n == 0 or n == 1:\n",
    "        return n\n",
    "    return FibonacciNormal(n-1) + FibonacciNormal(n-2)"
   ]
  },
  {
   "cell_type": "markdown",
   "metadata": {},
   "source": [
    "Running Time : O(2^n). As we can see, for each Fibonacci calculation, we compute it's previous value and previous-previous value, based on this when we draw the recursion tree, we get it as and exponential.<br>\n",
    "But if carefully observe this recursion, we are calculating Fibonacci(n-2) {once for n and once for n-1}, and Fibonacci(n-3) twice {once for n-2,n-1} and so on. And now we can understand that we need to optimise it as it takes many repeated work, we try to memorize already calculated ones and use it later."
   ]
  },
  {
   "cell_type": "markdown",
   "metadata": {},
   "source": [
    "# Top Down Approach\n",
    "We do it by dividing the problem for N into subproblems <br>\n",
    "# Bottom Up Approach\n",
    "We do it by solving the simple cases and used it for bigger cases.<br>\n",
    "So let's do the Bottom Up Approach<br> "
   ]
  },
  {
   "cell_type": "code",
   "execution_count": 2,
   "metadata": {},
   "outputs": [],
   "source": [
    "def FibonacciBottomUp(n):\n",
    "    fib = [1]*(n+1)\n",
    "    fib[0] = 0\n",
    "    for i in range(3,n+1):\n",
    "        fib[i] = fib[i-1] + fib[i-2]\n",
    "    return fib[n]\n",
    "def FibonacciTopDown(n):\n",
    "    memoization = [0]*(n+1)\n",
    "    return Fibonacci(n,memoization)\n",
    "def Fibonacci(n,memoization):\n",
    "    if n == 0 or n == 1:\n",
    "        return n\n",
    "    if memoization[n] == 0:\n",
    "        memoization[n] = Fibonacci(n-1,memoization) + Fibonacci(n-2,memoization)\n",
    "    return memoization[n]"
   ]
  },
  {
   "cell_type": "markdown",
   "metadata": {},
   "source": [
    "Let's just calculate the time to calculate Nth Finanocci Number. "
   ]
  },
  {
   "cell_type": "code",
   "execution_count": 52,
   "metadata": {},
   "outputs": [],
   "source": []
  },
  {
   "cell_type": "code",
   "execution_count": 3,
   "metadata": {},
   "outputs": [
    {
     "name": "stdout",
     "output_type": "stream",
     "text": [
      "Time Taken= 3.3907309999999997 seconds\n",
      "Time Taken= 0.0001389999999998892 seconds\n",
      "Time Taken= 7.200000000029405e-05 seconds\n"
     ]
    }
   ],
   "source": [
    "\n",
    "from time import clock\n",
    "startTime = clock()\n",
    "FibonacciNormal(34)\n",
    "print(\"Time Taken= %s seconds\" % (clock() - startTime))\n",
    "startTime = clock()\n",
    "(FibonacciTopDown(50),50)\n",
    "print(\"Time Taken= %s seconds\" % (clock() - startTime))\n",
    "startTime = clock()\n",
    "(FibonacciBottomUp(50),50)\n",
    "print(\"Time Taken= %s seconds\" % (clock() - startTime))"
   ]
  },
  {
   "cell_type": "markdown",
   "metadata": {},
   "source": [
    "Even 1 millionTh Fibanocci number is computed in less time with DP technique."
   ]
  },
  {
   "cell_type": "code",
   "execution_count": 15,
   "metadata": {},
   "outputs": [
    {
     "name": "stdout",
     "output_type": "stream",
     "text": [
      "Time Taken= 2.091989 seconds\n"
     ]
    }
   ],
   "source": [
    "startTime = clock()\n",
    "(FibonacciBottomUp(200000))\n",
    "print(\"Time Taken= %s seconds\" % (clock() - startTime))"
   ]
  },
  {
   "cell_type": "markdown",
   "metadata": {},
   "source": [
    "# Note: \n",
    "Try to implement the recursive algorithm iteratively whenever the later version doesnot get much complex. "
   ]
  },
  {
   "cell_type": "markdown",
   "metadata": {},
   "source": [
    "Now to let's try to optimise the space used in FibonacciBottomUp Method. As we use only Fib_n-1 and Fib_n-2, we can just remember only  the previous two variables"
   ]
  },
  {
   "cell_type": "code",
   "execution_count": 14,
   "metadata": {},
   "outputs": [
    {
     "name": "stdout",
     "output_type": "stream",
     "text": [
      "Time Taken= 1.899285 seconds\n"
     ]
    }
   ],
   "source": [
    "def FibonacciBottomUpOptimised(n):\n",
    "    fibN1 = 1\n",
    "    fibN2 = 0\n",
    "    for i in range(3,n+1):\n",
    "        FibN = fibN1 + fibN2\n",
    "        fibN2 = fibN1\n",
    "        fibN1 = fibN\n",
    "    return fibN\n",
    "startTime = clock()\n",
    "(FibonacciBottomUp(200000))\n",
    "print(\"Time Taken= %s seconds\" % (clock() - startTime))"
   ]
  },
  {
   "cell_type": "markdown",
   "metadata": {},
   "source": [
    "So now, we optimised the space for Fibonacci. please note that, the constant space may not be possible everytime. "
   ]
  },
  {
   "cell_type": "markdown",
   "metadata": {},
   "source": [
    "# 8.1 Triple Step:\n",
    "A child is running up a staircase with n steps and can hop either 1 step, 2 steps, or 3 steps at a time. Implement a method to count how many possible ways the child can run up the stairs."
   ]
  },
  {
   "cell_type": "markdown",
   "metadata": {},
   "source": [
    "Approach :To reach step N, we can reach it from N-1, N-2 , N-3, so we assume that, the we already know the different ways to reach N-1,N-2,N-3, then adding all these ways, will give the value to step(N) as these are the only steps which will lead to stepN<br>\n",
    "Recurrence relation: steps(N) =  steps(N-1) + step(N-2) +  steps(N-3)<br>\n",
    "Running Time = O(n)<br>\n",
    "Space Complexity = O(1)\n",
    "\n",
    "Example to reach for first four n steps:<br>\n",
    "n = 1: <br>\n",
    "from 0: 0-1 <br>\n",
    "n = 2: <br>\n",
    "from 0: 0-2<br>\n",
    "from 1: 0-1-2<br>\n",
    "n = 3: <br>\n",
    "from 0: 0-3<br>\n",
    "from 1: 0-1-3<br>\n",
    "from 2: 0-1-2-3, 0-2-3<br>\n",
    "n = 4: <br>\n",
    "from 1: 0-1-4 <br>\n",
    "from 2: 0-1-2-4, 0-2-4<br>\n",
    "from 3: 0-1-2-3-4, 0-1-3-4, 0-2-3-4, 0-3-4<br>"
   ]
  },
  {
   "cell_type": "code",
   "execution_count": 42,
   "metadata": {},
   "outputs": [
    {
     "data": {
      "text/plain": [
       "7046319384"
      ]
     },
     "execution_count": 42,
     "metadata": {},
     "output_type": "execute_result"
    }
   ],
   "source": [
    "def tripleStep(n):\n",
    "    stepPrevious = [0,1,1,2] # 0,1,2,3 steps\n",
    "    if n <= 0:\n",
    "        return 0\n",
    "    if n <= 2:\n",
    "        return n\n",
    "    for step in range(3,n+1):\n",
    "        stepN = stepPrevious[1]  + stepPrevious[2] + stepPrevious[3] \n",
    "        stepPrevious[1] = stepPrevious[2]\n",
    "        stepPrevious[2] = stepPrevious[3]\n",
    "        stepPrevious[3] = stepN\n",
    "    return stepN\n",
    "tripleStep(38)"
   ]
  },
  {
   "cell_type": "markdown",
   "metadata": {},
   "source": [
    "Note : worry about the range of int when dealing in other languages"
   ]
  },
  {
   "cell_type": "markdown",
   "metadata": {},
   "source": [
    "Normal recursive algorithm without memoization will lead to O(3^N) running time algorithm "
   ]
  },
  {
   "cell_type": "markdown",
   "metadata": {},
   "source": [
    "# 8.2 Robot in a Grid:\n",
    "Imagine a robot sitting on the upper left corner of grid with r rows and c columns.The robot can only move in two directions, right and down, but certain cells are \"off limits\" such that the robot cannot step on them. Design an algorithm to find a path for the robot from the top left to the bottom right."
   ]
  },
  {
   "cell_type": "code",
   "execution_count": 43,
   "metadata": {},
   "outputs": [
    {
     "data": {
      "text/plain": [
       "'ssf'"
      ]
     },
     "execution_count": 43,
     "metadata": {},
     "output_type": "execute_result"
    }
   ],
   "source": [
    "def RobotInAGrid(grid):"
   ]
  },
  {
   "cell_type": "code",
   "execution_count": null,
   "metadata": {},
   "outputs": [],
   "source": []
  }
 ],
 "metadata": {
  "kernelspec": {
   "display_name": "Python 3",
   "language": "python",
   "name": "python3"
  },
  "language_info": {
   "codemirror_mode": {
    "name": "ipython",
    "version": 3
   },
   "file_extension": ".py",
   "mimetype": "text/x-python",
   "name": "python",
   "nbconvert_exporter": "python",
   "pygments_lexer": "ipython3",
   "version": "3.6.4"
  }
 },
 "nbformat": 4,
 "nbformat_minor": 2
}
