{
 "cells": [
  {
   "cell_type": "markdown",
   "metadata": {
    "ExecuteTime": {
     "end_time": "2018-06-10T18:54:22.221773Z",
     "start_time": "2018-06-10T11:54:22.218610-07:00"
    }
   },
   "source": [
    "# [ABC: Always Be Coding](https://medium.com/always-be-coding/abc-always-be-coding-d5f8051afce2#.4heg8zvm4)\n",
    "\n",
    "# [WhiteBoard Coding](https://writing.pupius.co.uk/whiteboarding-4df873dbba2e)"
   ]
  },
  {
   "cell_type": "markdown",
   "metadata": {},
   "source": [
    "![Common Data Structure Operations](CDSO.png \"Title\")\n",
    "![Array Sorting Algorithms](ASA.png \"Title\")"
   ]
  },
  {
   "cell_type": "markdown",
   "metadata": {
    "ExecuteTime": {
     "end_time": "2018-06-10T18:44:09.050976Z",
     "start_time": "2018-06-10T11:44:09.044727-07:00"
    }
   },
   "source": [
    "Implement common computational algorithms: \n",
    "- [ ] Dijkstra’s\n",
    "- [ ] Floyd-Warshall\n",
    "- [ ] Traveling Salesman\n",
    "- [ ] A*\n",
    "- [ ] bloom filter\n",
    "- [ ] breadth-first iterative search\n",
    "- [ ] binary search\n",
    "- [ ] k-way merge\n",
    "- [ ] bubble/selection/insertion sort\n",
    "- [ ] in-place quick sort\n",
    "- [ ] bucket/radix sort\n",
    "- [ ] closest pair\n",
    " "
   ]
  },
  {
   "cell_type": "markdown",
   "metadata": {
    "ExecuteTime": {
     "end_time": "2018-06-10T18:58:12.989116Z",
     "start_time": "2018-06-10T11:58:12.983283-07:00"
    }
   },
   "source": [
    "# ability to implement:\n",
    "- [ ] recursive\n",
    "- [ ] pattern-matching\n",
    "- [ ] greedy\n",
    "- [ ] dynamic programming\n",
    "- [ ] graph problems\n",
    "\n",
    "# [Few Tutorials](https://www.topcoder.com/community/data-science/data-science-tutorials/)"
   ]
  },
  {
   "cell_type": "code",
   "execution_count": null,
   "metadata": {},
   "outputs": [],
   "source": []
  }
 ],
 "metadata": {
  "kernelspec": {
   "display_name": "Python 3",
   "language": "python",
   "name": "python3"
  },
  "language_info": {
   "codemirror_mode": {
    "name": "ipython",
    "version": 3
   },
   "file_extension": ".py",
   "mimetype": "text/x-python",
   "name": "python",
   "nbconvert_exporter": "python",
   "pygments_lexer": "ipython3",
   "version": "3.6.0"
  }
 },
 "nbformat": 4,
 "nbformat_minor": 2
}
