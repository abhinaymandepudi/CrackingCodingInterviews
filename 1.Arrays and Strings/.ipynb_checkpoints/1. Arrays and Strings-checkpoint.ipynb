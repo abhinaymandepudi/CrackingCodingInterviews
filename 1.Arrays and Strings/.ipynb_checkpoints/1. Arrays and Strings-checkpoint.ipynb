{
 "cells": [
  {
   "cell_type": "markdown",
   "metadata": {},
   "source": [
    "# https://wiki.python.org/moin/TimeComplexity\n",
    "\n",
    "Refer that link for time complexities"
   ]
  },
  {
   "cell_type": "markdown",
   "metadata": {},
   "source": [
    "# 1.1 Is Unique: Implement an algorithm to determine if a string has all unique characters. What if you cannot use additional data structure ?\n"
   ]
  },
  {
   "cell_type": "markdown",
   "metadata": {},
   "source": [
    "Method 1: Using hash table that is dictionary in python.<br>\n",
    "Running Time : O(n) <br>\n",
    "Extra Space : O(1) byte*size of characters, i.e total different characters in the given string. <br>"
   ]
  },
  {
   "cell_type": "code",
   "execution_count": 24,
   "metadata": {},
   "outputs": [
    {
     "name": "stdout",
     "output_type": "stream",
     "text": [
      "Using dictionary- True False\n",
      "Using set() - True False\n",
      "first method is faster as it can be stopped right after finding a repeated characters\n",
      "     and it won't stop till last character in second\n"
     ]
    }
   ],
   "source": [
    "def isUnique(string):\n",
    "    characters = dict()\n",
    "    for char in string:\n",
    "        if char in characters:\n",
    "            return False\n",
    "        else:\n",
    "            characters[char] = True\n",
    "    return True\n",
    "print (\"Using dictionary-\",isUnique(\"abhin\"),isUnique(\"abhinaya\"))\n",
    "\n",
    "def isUnique(string):\n",
    "    return len(string) == len(set(string))\n",
    "print (\"Using set() -\",isUnique(\"abhin\"),isUnique(\"abhinaya\"))\n",
    "print(\"first method is faster as it can be stopped right after finding a repeated characters\\n \\\n",
    "    and it won't stop till last character in second\")"
   ]
  },
  {
   "cell_type": "markdown",
   "metadata": {},
   "source": [
    "# Method 2:\n",
    "Using Bit Vector Method. reduces space by a factor of Byte as we save the seen character as a bit instead of giving it an extra byte.<br>\n",
    "Running Time : O(n)<br>\n",
    "Extra Space : O(1) bit*size of characters, i.e total different characters in the given string."
   ]
  },
  {
   "cell_type": "code",
   "execution_count": 44,
   "metadata": {},
   "outputs": [
    {
     "name": "stdout",
     "output_type": "stream",
     "text": [
      "Using dictionary- True False\n"
     ]
    }
   ],
   "source": [
    "def isUnique(string):\n",
    "    seenBits = 0\n",
    "    for char in string:\n",
    "        #python allows us to bit manipulations directly on integers and the processing is done at their bit level\n",
    "        #here i'm talking about & and |\n",
    "        if ((1 << ord(char)) & seenBits) > 0: \n",
    "        # checking with & whether there is 1 already in seenBits at position ord(char)\n",
    "        # 1 & 1 = 1 ; 0 & 1 = 0\n",
    "            return False\n",
    "        seenBits = seenBits | (1 << ord(char)) \n",
    "        # 1 | 0 = 1\n",
    "        #adding one to a position of the ascii i.e if a is encountered,\n",
    "        #add 1 to the seemBits's bit's position (97+1) from left as the bit count starts from 0\n",
    "    return True\n",
    "\n",
    "print (\"Using dictionary-\",isUnique(\"abhin\"),isUnique(\"abhinaya\"))\n"
   ]
  },
  {
   "cell_type": "markdown",
   "metadata": {},
   "source": [
    "Function Definitions:\n",
    "# ord(c) :\n",
    "Given a string of length one, return an integer representing the Unicode code point of the character when the argument is a unicode object, or the value of the byte when the argument is an 8-bit string. For example, ord('a') returns the integer 97, ord(u'\\u2020') returns 8224. This is the inverse of chr() for 8-bit strings and of unichr() for unicode objects. If a unicode argument is given and Python was built with UCS2 Unicode, then the character’s code point must be in the range [0..65535] inclusive; otherwise the string length is two, and a TypeError will be raised.\n",
    "\n",
    "# chr(i)\n",
    "Return a string of one character whose ASCII code is the integer i. For example, chr(97) returns the string 'a'. This is the inverse of ord(). The argument must be in the range [0..255], inclusive; ValueError will be raised if i is outside that range. See also unichr().\n",
    "\n",
    "# unichr(i)\n",
    "Return the Unicode string of one character whose Unicode code is the integer i. For example, unichr(97) returns the string u'a'. This is the inverse of ord() for Unicode strings. The valid range for the argument depends how Python was configured – it may be either UCS2 [0..0xFFFF] or UCS4 [0..0x10FFFF]. ValueError is raised otherwise. For ASCII and 8-bit strings see chr().\n",
    "\n",
    "# unicode(object='')¶\n",
    "unicode(object[, encoding[, errors]])\n",
    "Return the Unicode string version of object using one of the following modes:\n",
    "\n",
    "If encoding and/or errors are given, unicode() will decode the object which can either be an 8-bit string or a character buffer using the codec for encoding. The encoding parameter is a string giving the name of an encoding; if the encoding is not known, LookupError is raised. Error handling is done according to errors; this specifies the treatment of characters which are invalid in the input encoding. If errors is 'strict' (the default), a ValueError is raised on errors, while a value of 'ignore' causes errors to be silently ignored, and a value of 'replace' causes the official Unicode replacement character, U+FFFD, to be used to replace input characters which cannot be decoded. See also the codecs module.\n",
    "\n",
    "If no optional parameters are given, unicode() will mimic the behaviour of str() except that it returns Unicode strings instead of 8-bit strings. More precisely, if object is a Unicode string or subclass it will return that Unicode string without any additional decoding applied.\n",
    "\n",
    "For objects which provide a __unicode__() method, it will call this method without arguments to create a Unicode string. For all other objects, the 8-bit string version or representation is requested and then converted to a Unicode string using the codec for the default encoding in 'strict' mode.\n",
    "\n",
    "For more information on Unicode strings see Sequence Types — str, unicode, list, tuple, bytearray, buffer, xrange which describes sequence functionality (Unicode strings are sequences), and also the string-specific methods described in the String Methods section. To output formatted strings use template strings or the % operator described in the String Formatting Operations section. In addition see the String Services section. See also str().\n",
    "\n",
    "\n"
   ]
  },
  {
   "cell_type": "markdown",
   "metadata": {},
   "source": [
    "# 1.2 Check Permutation: Given two strings, write a method to decide if one is a permutation of the other.\n"
   ]
  },
  {
   "cell_type": "markdown",
   "metadata": {},
   "source": [
    "# Approch 1: keep counts of each character in each string and tally their count\n",
    "\n",
    "<br>\n",
    "Running Time : O(n) n is length of string, when lengths are not equal we directly return False<br>\n",
    "Space Complexity : O(n)"
   ]
  },
  {
   "cell_type": "code",
   "execution_count": 67,
   "metadata": {},
   "outputs": [
    {
     "name": "stdout",
     "output_type": "stream",
     "text": [
      "True False\n",
      "True False\n"
     ]
    }
   ],
   "source": [
    "from collections import Counter\n",
    "def checkPermutation(s1,s2):\n",
    "    return Counter(s1) == Counter(s2)\n",
    "\n",
    "print (checkPermutation(\"abhinaya\",\"aaanbhiy\"),checkPermutation(\"abhinaya\",\"Daanbhiy\"))\n",
    "\n",
    "def checkPermutation(s1,s2):\n",
    "    #without using counter\n",
    "    if len(s1) != len(s2):\n",
    "        return False\n",
    "    s1Dict = dict()\n",
    "    for char1 in (s1):\n",
    "        if char1 in s1Dict: s1Dict[char1] += 1\n",
    "        else: s1Dict[char1] = 1\n",
    "    for char in s2:\n",
    "        if char not in s1Dict: return False\n",
    "        s1Dict[char] -= 1\n",
    "        if s1Dict[char] == 0: s1Dict.pop(char)\n",
    "    return len(s1Dict) == 0\n",
    "\n",
    "print (checkPermutation(\"abhinaya\",\"aaanbhiy\"),checkPermutation(\"abhinaya\",\"Daanbhiy\"))\n"
   ]
  },
  {
   "cell_type": "markdown",
   "metadata": {},
   "source": [
    "# Approch 2 : Sort it and iterate through each character \n",
    "<b>sorted()</b> returns a <b>new sorted list</b>, leaving the original list unaffected. <b>uses Merge Sort</b><br>\n",
    "<b>list.sort()</b> sorts the list <b>in-place</b>, mutating the list indices, and returns None (like all in-place operations). <b>Uses Heap Sort</b><br>\n",
    "\n",
    "sorted() works on any iterable, not just lists. Strings, tuples, dictionaries (you'll get the keys), generators, etc., returning a list containing all elements, sorted.\n",
    "\n",
    "Use list.sort() when you want to mutate the list, sorted() when you want a new sorted object back. Use sorted() when you want to sort something that is an iterable, not a list yet.\n",
    "\n",
    "For lists, list.sort() is faster than sorted() because it doesn't have to create a copy. For any other iterable, you have no choice.\n",
    "\n",
    "you cannot retrieve the original positions. Once you called list.sort() the original order is gone.\n",
    "\n",
    "Running Time : O(n*log(n))\n",
    "Space Complexity : O(n)\n",
    "\n",
    "a = list(\"sssaaaww\") <br>\n",
    "sorted(a) <br>\n",
    "print(a) <br>\n",
    "a.sort() <br>\n",
    "print(a) <br>\n",
    "\n",
    "Output:<br>\n",
    "['s', 's', 's', 'a', 'a', 'a', 'w', 'w'] <br>\n",
    "['a', 'a', 'a', 's', 's', 's', 'w', 'w'] <br>"
   ]
  },
  {
   "cell_type": "code",
   "execution_count": 72,
   "metadata": {},
   "outputs": [
    {
     "name": "stdout",
     "output_type": "stream",
     "text": [
      "True False\n"
     ]
    }
   ],
   "source": [
    "def checkPermutation(s1,s2):\n",
    "    if len(s1) != len(s2):\n",
    "        return False\n",
    "    s1 = list(s1)\n",
    "    s1.sort()\n",
    "    s2 = list(s2)\n",
    "    s2.sort()\n",
    "    for index in range(len(s1)):\n",
    "        if s1[index] != s2[index]:\n",
    "            return False\n",
    "    return True\n",
    "\n",
    "print (checkPermutation(\"abhinaya\",\"aaanbhiy\"),checkPermutation(\"abhinaya\",\"Daanbhiy\"))"
   ]
  },
  {
   "cell_type": "markdown",
   "metadata": {},
   "source": [
    "# 1.3 URLify : Write a method to replace all spaces in a string with '%20'. You may assume that the string has sufficient space at the end to hold the additional characters, and that you are given the \"true\" length of the string."
   ]
  },
  {
   "cell_type": "markdown",
   "metadata": {},
   "source": [
    "# Note: Strings are  Immutable in Java and Python"
   ]
  },
  {
   "cell_type": "markdown",
   "metadata": {},
   "source": [
    "# Approach:\n",
    "As Strings are immutable in python, we break that into a list of characters, and then we count the actual spaces within our string (not the one that exists at the end). and the starting from the last, as there are enough spaces at the end, even if we replace with the characters, we wont loose any sensible information. if we find any space between words, we copy %20 else character as it is.<br>\n",
    "RunningTime : O(n)<br>\n",
    "Space Complexity : O(n) but in-place modification. counting the space used for the list in the beginning of the sentence"
   ]
  },
  {
   "cell_type": "code",
   "execution_count": 113,
   "metadata": {},
   "outputs": [
    {
     "data": {
      "text/plain": [
       "'Mr%20John%20Smith'"
      ]
     },
     "execution_count": 113,
     "metadata": {},
     "output_type": "execute_result"
    }
   ],
   "source": [
    "def URLify(s,trueLength):\n",
    "    s = list(s)\n",
    "    flag = False\n",
    "    trueSpaceCount = 0\n",
    "    for char in range(0,trueLength):\n",
    "        if s[char] == \" \":\n",
    "            trueSpaceCount += 1\n",
    "    finalLength = trueLength + 2*trueSpaceCount #each space is replaced by %20 in final string\n",
    "    #addition of 2 more characters for each space\n",
    "    for char in range(trueLength-1,-1,-1):\n",
    "        if s[char] != \" \":\n",
    "            s[finalLength-1] = s[char]\n",
    "            finalLength -= 1\n",
    "        else:\n",
    "            s[finalLength-3:finalLength] = [\"%\",\"2\",\"0\"]\n",
    "            finalLength -= 3\n",
    "    return \"\".join(s)\n",
    "URLify(\"Mr John Smith    \",13)"
   ]
  },
  {
   "cell_type": "markdown",
   "metadata": {},
   "source": [
    "# 1.4 Palindrome Permutation: Given a string, write a function to check if it is a permutation of a palindrome. A palindrome is a word or phrase that is the same forwards and backwards. A permutation is a rea rrangement of letters. The palindrome does not need to be limited to just dictionary words."
   ]
  },
  {
   "cell_type": "markdown",
   "metadata": {},
   "source": [
    "Approach : Counting the frequency of each characters appeared, and checking the total number of characters with odd count and checking if they are > 1 or not. spaces won't be considered while counting odd counts\n",
    "Running Time : O(n) <br>\n",
    "Space Complexity : O(n)\n",
    "\n",
    "Alternatively: we can check the Odd count's in the first for loop itself and reduce the second for loop, but we may check the condition of even|odd for each character. it may or may not lead to a faster algorithm.\n",
    "\n",
    "Alternatively we can even go with the bit vector method, like we did it for 1.1 instead of using a hashmap. and still the running time is the same."
   ]
  },
  {
   "cell_type": "code",
   "execution_count": 139,
   "metadata": {},
   "outputs": [
    {
     "data": {
      "text/plain": [
       "True"
      ]
     },
     "execution_count": 139,
     "metadata": {},
     "output_type": "execute_result"
    }
   ],
   "source": [
    "def PalindromePermutation(s):\n",
    "    charCounts = dict()\n",
    "    for char in s:\n",
    "        if char.lower() in charCounts: \n",
    "            charCounts[char.lower()] += 1\n",
    "        else:\n",
    "            charCounts[char.lower()] = 1\n",
    "    countOdds = 0\n",
    "    for each in charCounts:\n",
    "        if each != \" \" and charCounts[each]%2 != 0:\n",
    "            if countOdds == 1: #this is where you encounter one more odd count character\n",
    "                return False\n",
    "            countOdds += 1\n",
    "    return True\n",
    "PalindromePermutation(\"Taco Coa\")\n"
   ]
  },
  {
   "cell_type": "markdown",
   "metadata": {},
   "source": [
    "# 1.5 One Away: There are three types of edits that can be performed on strings: insert a character, remove a character, or replace a character. Given two strings, write a function to check if they are one edit (or zero edits) away."
   ]
  },
  {
   "cell_type": "markdown",
   "metadata": {},
   "source": [
    "Approach:<br> As it is mentioned, there can be atmost one edit that can be made to make it right. So that means their difference in lengths should be atmost 1.this is what we intitially.<br>And then, we should be knowing which one is the shorter string, as we may endup accessing an element which is out of bounds when there is some Remove type edit. and we might need to know which index has to updated when an element is to inserted.<br>\n",
    "Generally, Insertion is done into smaller String and Deletion in larger String and replacement when their lengths are equal.<br>\n",
    "Running Time: O(n)<br>\n",
    "Space Complexity: O(1)<br>"
   ]
  },
  {
   "cell_type": "code",
   "execution_count": 154,
   "metadata": {},
   "outputs": [
    {
     "data": {
      "text/plain": [
       "False"
      ]
     },
     "execution_count": 154,
     "metadata": {},
     "output_type": "execute_result"
    }
   ],
   "source": [
    "def oneAway(s1,s2):\n",
    "    if abs(len(s1)-len(s2)) > 1:\n",
    "        return False\n",
    "    if len(s1) > len(s2):   \n",
    "        smallS,bigS = s2,s1\n",
    "    else:\n",
    "        smallS,bigS = s1,s2\n",
    "    sIndex = 0\n",
    "    bIndex = 0\n",
    "    firstError = False\n",
    "    while sIndex < len(smallS):\n",
    "        if smallS[sIndex] == bigS[bIndex]:\n",
    "            sIndex += 1\n",
    "            bIndex += 1\n",
    "        elif firstError == False:\n",
    "            firstError = True\n",
    "            if len(s1) == len(s2):\n",
    "                sIndex += 1\n",
    "                bIndex += 1\n",
    "            else:\n",
    "                bIndex += 1\n",
    "        else:\n",
    "            return False\n",
    "    return True\n",
    "oneAway(\"abcdcd\",\"abc\")"
   ]
  },
  {
   "cell_type": "markdown",
   "metadata": {},
   "source": [
    "# Remember This :). Address Things :p"
   ]
  },
  {
   "cell_type": "code",
   "execution_count": 163,
   "metadata": {},
   "outputs": [
    {
     "name": "stdout",
     "output_type": "stream",
     "text": [
      "[1, 2, 3, 3, 3, 4] [1, 2, 3, 3, 3, 4]\n",
      "[1, 2, 3, 3, 3, 4] [1, 2, 3, 4, 3, 3]\n"
     ]
    }
   ],
   "source": [
    "one = [1,2,3,4,3,3]\n",
    "two = one\n",
    "one.sort()\n",
    "print(one,two)\n",
    "\n",
    "one = [1,2,3,4,3,3]\n",
    "two = one\n",
    "one = sorted(one)\n",
    "print(one,two)"
   ]
  },
  {
   "cell_type": "markdown",
   "metadata": {},
   "source": [
    "# 1.6 String Compression: Implement a method to perform basic string compression using the counts of repeated characters. For example, the string aabcccccaaa would become a2b1c5a3. If the \"compressed\" string would not become smaller than the original string, your method should return the original string. You can assume the string has only uppercase and lowercase letters (a - z)."
   ]
  },
  {
   "cell_type": "markdown",
   "metadata": {},
   "source": [
    "Approach: whenever the adjacent characters are different or the char is the last string, append the character and its count till now.<br>\n",
    "Running Time: O(n); remember list.append is O(1) in worst case and concatination is O(n) in worst case as we endup creating a new string instead of modifying like we do it for append.<br>\n",
    "Space Complexity: O(n) ; worst case, if all the characters are distinct, we may endup copying the same string and and 1 after each character.<br>"
   ]
  },
  {
   "cell_type": "code",
   "execution_count": 169,
   "metadata": {},
   "outputs": [
    {
     "data": {
      "text/plain": [
       "'a2b1c5a3'"
      ]
     },
     "execution_count": 169,
     "metadata": {},
     "output_type": "execute_result"
    }
   ],
   "source": [
    "def stringCompression(s):\n",
    "    newList = []\n",
    "    count = 1\n",
    "    index = 0\n",
    "    while index < (len(s)):\n",
    "        if index == (len(s) - 1) or s[index] != s[index+1]:\n",
    "            newList.append(s[index]) #append is O(1) time\n",
    "            newList.append(str(count))\n",
    "            count = 1\n",
    "            index += 1\n",
    "        else:\n",
    "            count += 1\n",
    "            index += 1\n",
    "    if len(newList) == len(s): return s\n",
    "    else : return \"\".join(newList)\n",
    "stringCompression(\"aabcccccaaa\")"
   ]
  },
  {
   "cell_type": "markdown",
   "metadata": {},
   "source": [
    "# 1.7 Rotate Matrix: Given an image represented by an NxN matrix, where each pixel in the image is 4 bytes, write a method to rotate the image by 90 degrees. Can you do this in place?"
   ]
  },
  {
   "cell_type": "markdown",
   "metadata": {},
   "source": [
    "Approach: Assuming that the rotation is clock wise. as once we copy our first row to last column,last column to last row, last row to first column as is, we copy n elements in this loop. once we are done with that, when we go to second row, we can see that first and last elements of this row is already rotated, so we start from index 1 and end by index n-2... 2 n-3  and so on. if you can see, we continue this till the middle element is rotated.\n",
    "and copying elements like we do the swapping to save space.<br>\n",
    "Running Time: O(n2)<br>\n",
    "Space Complexity:O(1) <br>"
   ]
  },
  {
   "cell_type": "code",
   "execution_count": 2,
   "metadata": {},
   "outputs": [
    {
     "name": "stdout",
     "output_type": "stream",
     "text": [
      "[[3, 2, 3, 1], [4, 4, 5, 2], [5, 5, 4, 3], [4, 4, 5, 4]]\n",
      "[[15, 13, 2, 5], [14, 3, 8, 1], [12, 6, 4, 9], [16, 7, 10, 11]]\n"
     ]
    }
   ],
   "source": [
    "def rotateMatrix(matrix):\n",
    "    if len(matrix) == 0: return []\n",
    "    if len(matrix) != len(matrix[0]): return matrix\n",
    "    n = len(matrix)\n",
    "    for row in range(int((n)/2+1)):\n",
    "        startIndex = row\n",
    "        endIndex = n - 1 - startIndex\n",
    "        for index in range(startIndex,endIndex):\n",
    "            #saving top\n",
    "            temp = matrix[row][index]\n",
    "            #copying left to top\n",
    "            matrix[row][index] = matrix[endIndex - index][startIndex]\n",
    "            #copying bottom to left\n",
    "            matrix[endIndex - index][startIndex] = matrix[endIndex][endIndex - index]\n",
    "            #copying right to bottom\n",
    "            matrix[endIndex][endIndex - index] = matrix[startIndex + index][endIndex]\n",
    "            #copying top to right\n",
    "            matrix[startIndex + index][endIndex] = temp           \n",
    "    return matrix\n",
    "matrix1 = [[1,2,3,4],[3,4,5,5],[2,4,5,4],[3,4,5,4]] \n",
    "#even when each interger is replaced by a 2x2 matrix, code looks the same\n",
    "print (rotateMatrix(matrix1) )\n",
    "matrix2 = [[5,1,9,11],[2,4,8,10],[13,3,6,7],[15,14,12,16]]\n",
    "print(rotateMatrix(matrix2) )  "
   ]
  },
  {
   "cell_type": "code",
   "execution_count": null,
   "metadata": {},
   "outputs": [],
   "source": [
    "Input:\n",
    "[[5,1,9,11],[2,4,8,10],[13,3,6,7],[15,14,12,16]]\n",
    "Output:\n",
    "[[15,13,2,5],[14,3,8,1],[12,6,4,9],[16,7,10,11]]\n",
    "Expected:\n",
    "[[15,13,2,5],[14,3,4,1],[12,6,8,9],[16,7,10,11]]"
   ]
  },
  {
   "cell_type": "code",
   "execution_count": null,
   "metadata": {},
   "outputs": [],
   "source": []
  },
  {
   "cell_type": "markdown",
   "metadata": {},
   "source": [
    "# 1.8 Zero Matrix: Write an algorithm such that if an element in an MxN matrix is 0, its entire row and column are set to 0."
   ]
  },
  {
   "cell_type": "markdown",
   "metadata": {},
   "source": [
    "Approach: As we need to replace all the columns and rows to 0's if there exist a 0 in that row or column. and as we trying to do in-place replacement to optimize memory, without keeping track of all the rows, columns which has 0's in it, will lead to wrong answers as we may insert 0's in a row where there are no prior 0's and we added 0 to it because, there is a 0 in that particular column. so we keep track of all rows, columns with 0s and then substitute them with 0's as stated.\n",
    "Running Time: O(n2)<br>\n",
    "Space Complexity:O(n) <br>"
   ]
  },
  {
   "cell_type": "code",
   "execution_count": 203,
   "metadata": {},
   "outputs": [
    {
     "data": {
      "text/plain": [
       "[[3, 0, 5], [0, 0, 0], [3, 0, 5]]"
      ]
     },
     "execution_count": 203,
     "metadata": {},
     "output_type": "execute_result"
    }
   ],
   "source": [
    "def zeroMatrix(matrix):\n",
    "    if len(matrix) == 0:\n",
    "        return matrix\n",
    "    n = len(matrix)\n",
    "    m = len(matrix[0])\n",
    "    firstRow = set()\n",
    "    firstColumn = set()\n",
    "    for r in range(n):\n",
    "        for c in range(m):\n",
    "            if matrix[r][c] == 0:\n",
    "                firstRow.add(r)\n",
    "                firstColumn.add(c)\n",
    "    for row in firstRow:\n",
    "        matrix[row] = [0]*m\n",
    "    for column in firstColumn:\n",
    "        for row in range(n):\n",
    "            matrix[row][column] = 0\n",
    "    return matrix\n",
    "matrix = [[3,4,5],[1,0,3],[3,4,5]]\n",
    "zeroMatrix(matrix)"
   ]
  },
  {
   "cell_type": "markdown",
   "metadata": {},
   "source": [
    "# 1.9 String Rotation: Assume you have a method isSubstring which checks if one word is a substring of another. Given two strings, S1 and S2, write code to check if S2 is a rotation of S1 using only one call to isSubstring (e.g., \"waterbottle\" is a rotation of\"erbottlewat\")."
   ]
  },
  {
   "cell_type": "markdown",
   "metadata": {},
   "source": [
    "Approach: when you add a string to itself, all the rotations of the original string will be a substring to that mdofied version of the string. check it :) <br>\n",
    "Running Time : O(n) <br>\n",
    "Space Complexity : O(n) <br>"
   ]
  },
  {
   "cell_type": "code",
   "execution_count": 209,
   "metadata": {},
   "outputs": [
    {
     "data": {
      "text/plain": [
       "True"
      ]
     },
     "execution_count": 209,
     "metadata": {},
     "output_type": "execute_result"
    }
   ],
   "source": [
    "def stringRotation(s1,s2): #check s2 is rotation of s1\n",
    "    if len(s1) > 0 and len(s1) != len(s2):\n",
    "        return False\n",
    "    s2 = s2 + s2\n",
    "    return (s2.find(s2) != -1)\n",
    "stringRotation(\"waterbottle\",\"terbottlewa\")"
   ]
  }
 ],
 "metadata": {
  "kernelspec": {
   "display_name": "Python 3",
   "language": "python",
   "name": "python3"
  },
  "language_info": {
   "codemirror_mode": {
    "name": "ipython",
    "version": 3
   },
   "file_extension": ".py",
   "mimetype": "text/x-python",
   "name": "python",
   "nbconvert_exporter": "python",
   "pygments_lexer": "ipython3",
   "version": "3.6.4"
  }
 },
 "nbformat": 4,
 "nbformat_minor": 2
}
