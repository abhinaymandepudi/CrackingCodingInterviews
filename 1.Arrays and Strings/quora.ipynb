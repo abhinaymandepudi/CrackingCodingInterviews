{
 "cells": [
  {
   "cell_type": "code",
   "execution_count": 4,
   "metadata": {
    "ExecuteTime": {
     "end_time": "2018-04-23T06:00:02.683603Z",
     "start_time": "2018-04-23T06:00:02.680239Z"
    }
   },
   "outputs": [],
   "source": []
  },
  {
   "cell_type": "code",
   "execution_count": 6,
   "metadata": {
    "ExecuteTime": {
     "end_time": "2018-04-23T06:00:09.426668Z",
     "start_time": "2018-04-23T06:00:09.421514Z"
    }
   },
   "outputs": [
    {
     "data": {
      "text/plain": [
       "6"
      ]
     },
     "execution_count": 6,
     "metadata": {},
     "output_type": "execute_result"
    }
   ],
   "source": [
    "# Enter your code here. Read input from STDIN. Print output to STDOUT\n",
    "from math import factorial as fact\n",
    "from collections import Counter\n",
    "\n",
    "def FormingTeam(playerSkills,k):\n",
    "    countMap = Counter(playerSkills)\n",
    "    result = 0\n",
    "    for n1 in range(len(playerSkills)-2):\n",
    "        if n1 > 0 and playerSkills[n1] == playerSkills[n1-1]:\n",
    "            continue\n",
    "        l, r = n1+1, len(playerSkills)-1\n",
    "        while l < r :\n",
    "            s = playerSkills[n1] + playerSkills[l ] + playerSkills[r]\n",
    "            if s < k:\n",
    "                l +=1 \n",
    "            elif s > k:\n",
    "                r -= 1\n",
    "            else:\n",
    "                x = [playerSkills[n1], playerSkills[l ], playerSkills[r]]\n",
    "                xCount = Counter(x)\n",
    "                temp = 1\n",
    "                for each in xCount:\n",
    "                    temp *= (fact(countMap[each])/(fact(countMap[each]-xCount[each])*fact(xCount[each])))\n",
    "                result += int(temp)\n",
    "                while l < r and playerSkills[l ] == playerSkills[l+1]:\n",
    "                    l += 1\n",
    "                while l < r and playerSkills[r] == playerSkills[r-1]:\n",
    "                    r -= 1\n",
    "                l += 1; r -= 1\n",
    "    print (result)\n",
    "\n",
    "def main():\n",
    "    n = int(input())\n",
    "    playerSkills = [int(x) for x in (input().split())]\n",
    "    k = int(input())\n",
    "    playerSkills.sort()\n",
    "    FormingTeam(playerSkills,k)\n",
    "\n",
    "#calling main\n",
    "main()"
   ]
  },
  {
   "cell_type": "code",
   "execution_count": null,
   "metadata": {},
   "outputs": [],
   "source": [
    "# Running Time : O(n^2)\n",
    "from math import factorial as fact\n",
    "from collections import Counter\n",
    "\n",
    "def FormingTeam(playerSkills,k):\n",
    "    countMap = Counter(playerSkills)\n",
    "    result = 0\n",
    "    for n1 in range(len(playerSkills)-2):\n",
    "        #n1 to consider first element of the triplet\n",
    "        if n1 > 0 and playerSkills[n1] == playerSkills[n1-1]:\n",
    "            #skipping same element as we already considered them in line 26\n",
    "            continue\n",
    "        l, r = n1+1, len(playerSkills)-1\n",
    "        while l < r :\n",
    "            #finding 2nd and 3rd element of the triplet\n",
    "            s = playerSkills[n1] + playerSkills[l ] + playerSkills[r]\n",
    "            if s < k:\n",
    "                l +=1 \n",
    "            elif s > k:\n",
    "                r -= 1\n",
    "            else:\n",
    "                tuple = [playerSkills[n1], playerSkills[l ], playerSkills[r]]\n",
    "                xCount = Counter(tuple)\n",
    "                tupleCombinations = 1\n",
    "                for each in xCount:\n",
    "                    tupleCombinations *= (fact(countMap[each])/(fact(countMap[each]-xCount[each])*fact(xCount[each])))\n",
    "                result += int(tupleCombinations)\n",
    "                while l < r and playerSkills[l ] == playerSkills[l+1]:\n",
    "                    l += 1\n",
    "                while l < r and playerSkills[r] == playerSkills[r-1]:\n",
    "                    r -= 1\n",
    "                l += 1; r -= 1\n",
    "    print (result)\n",
    "\n",
    "def main():\n",
    "    n = int(input())\n",
    "    playerSkills = [int(x) for x in (input().split())]\n",
    "    k = int(input())\n",
    "    playerSkills.sort()\n",
    "    FormingTeam(playerSkills,k)\n",
    "\n",
    "#calling main\n",
    "main()"
   ]
  }
 ],
 "metadata": {
  "kernelspec": {
   "display_name": "Python 3",
   "language": "python",
   "name": "python3"
  },
  "language_info": {
   "codemirror_mode": {
    "name": "ipython",
    "version": 3
   },
   "file_extension": ".py",
   "mimetype": "text/x-python",
   "name": "python",
   "nbconvert_exporter": "python",
   "pygments_lexer": "ipython3",
   "version": "3.6.4"
  }
 },
 "nbformat": 4,
 "nbformat_minor": 2
}
