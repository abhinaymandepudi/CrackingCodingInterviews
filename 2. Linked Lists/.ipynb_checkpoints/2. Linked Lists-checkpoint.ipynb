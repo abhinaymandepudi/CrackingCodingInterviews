{
 "cells": [
  {
   "cell_type": "markdown",
   "metadata": {},
   "source": [
    "# 2. Linked Lists"
   ]
  },
  {
   "cell_type": "markdown",
   "metadata": {},
   "source": [
    "Memory management in Python involves a private heap containing all Python objects and data structures. The management of this private heap is ensured internally by the Python memory manager. The Python memory manager has different components which deal with various dynamic storage management aspects, like sharing, segmentation, preallocation or caching.\n",
    "\n",
    "At the lowest level, a raw memory allocator ensures that there is enough room in the private heap for storing all Python-related data by interacting with the memory manager of the operating system. On top of the raw memory allocator, several object-specific allocators operate on the same heap and implement distinct memory management policies adapted to the peculiarities of every object type. For example, integer objects are managed differently within the heap than strings, tuples or dictionaries because integers imply different storage requirements and speed/space tradeoffs. The Python memory manager thus delegates some of the work to the object-specific allocators, but ensures that the latter operate within the bounds of the private heap.\n",
    "\n",
    "It is important to understand that the management of the Python heap is performed by the interpreter itself and that the user has no control over it, even if she regularly manipulates object pointers to memory blocks inside that heap. The allocation of heap space for Python objects and other internal buffers is performed on demand by the Python memory manager through the Python/C API functions listed in this document."
   ]
  },
  {
   "cell_type": "markdown",
   "metadata": {},
   "source": [
    "Doubly Linked List Example"
   ]
  },
  {
   "cell_type": "code",
   "execution_count": 54,
   "metadata": {},
   "outputs": [],
   "source": [
    "class DNode(object):\n",
    "    def __init__(self,value): #constructor\n",
    "        self.value = value\n",
    "        self.next = None\n",
    "        self.previous = None\n",
    "        \n",
    "# Doubly Linked List \n",
    "class DlinkedList(object):\n",
    "    head = None #to track head part\n",
    "    tail = None #to track tail part for append\n",
    "    def prepend(self,value): #method to prepend new node at tail\n",
    "        temp = DNode(value)\n",
    "        temp.next = self.head\n",
    "        if self.head != None:\n",
    "            self.head.previous = temp\n",
    "        self.head = temp\n",
    "        if self.head.next == None: #handling boundary cases\n",
    "            self.tail = self.head\n",
    "            \n",
    "    def appendList(self,values): #method to append a List to the Linked List\n",
    "        for each in values:\n",
    "            self.append(each)\n",
    "        return\n",
    "    \n",
    "    def prependList(self,values): #method to prepend a List\n",
    "        for each in values:\n",
    "            self.prepend(each)\n",
    "        return \n",
    "    \n",
    "    def append(self,value): #method to append a value\n",
    "        temp = Node(value)\n",
    "        if self.tail == None:\n",
    "            self.head = temp\n",
    "            self.tail = temp\n",
    "            return\n",
    "        self.tail.next = temp\n",
    "        temp.previous = self.tail\n",
    "        self.tail = temp\n",
    "        return\n",
    "    def printList(self): #print a list\n",
    "        temp = self.head\n",
    "        while temp != None:\n",
    "            if temp.next != None:\n",
    "                print (temp.value,end=\"-> \")\n",
    "                temp = temp.next\n",
    "            else:\n",
    "                print(temp.value)\n",
    "                temp = temp.next\n",
    "        return\n",
    "def deleteNode(head,value):\n",
    "    if head == None or (head.value == value):\n",
    "        return head\n",
    "    temp = head\n",
    "    while temp.next != None:\n",
    "        if temp.next.value == value:\n",
    "            temp.next = temp.next.next\n",
    "            temp.next.previous = temp\n",
    "            return head\n",
    "        else:\n",
    "            temp = temp.next\n",
    "    return head\n"
   ]
  },
  {
   "cell_type": "markdown",
   "metadata": {},
   "source": [
    "working structure of above method's Doubly Linked List Example"
   ]
  },
  {
   "cell_type": "code",
   "execution_count": 59,
   "metadata": {},
   "outputs": [
    {
     "name": "stdout",
     "output_type": "stream",
     "text": [
      "head value now : 22\n",
      "present list is: \n",
      "34-> 22-> 2\n",
      "tail value 7\n",
      "34-> 22-> 2-> 1-> 2-> 3-> 4-> 5-> 6-> 7\n",
      "7-> 6-> 5-> 4-> 3-> 2-> 1-> 34-> 22-> 2-> 1-> 2-> 3-> 4-> 5-> 6-> 7\n",
      "7 6 5\n"
     ]
    }
   ],
   "source": [
    "# working structure of singly linked list example\n",
    "DList = DlinkedList() # Linked List Initialization\n",
    "DList.prepend(2) # prepend an  element\n",
    "DList.prepend(22)\n",
    "print (\"head value now :\",DList.head.value) \n",
    "DList.prepend(34)\n",
    "print (\"present list is: \",)\n",
    "DList.printList()\n",
    "print (\"tail value\",lList.tail.value) \n",
    "DList.appendList([1,2,3,4,5,6,7])\n",
    "DList.printList()\n",
    "DList.prependList([1,2,3,4,5,6,7])\n",
    "DList.printList()\n",
    "print (DList.tail.value,DList.tail.previous.value,DList.tail.previous.previous.value)"
   ]
  },
  {
   "cell_type": "code",
   "execution_count": null,
   "metadata": {},
   "outputs": [],
   "source": []
  },
  {
   "cell_type": "markdown",
   "metadata": {},
   "source": [
    "Singly Linked List Example"
   ]
  },
  {
   "cell_type": "code",
   "execution_count": 39,
   "metadata": {},
   "outputs": [],
   "source": [
    "#Node Class\n",
    "class Node(object):\n",
    "    def __init__(self,value):\n",
    "        self.value = value\n",
    "        self.next = None\n",
    "#Linked List \n",
    "class linkedList(object):\n",
    "    head = None #to track head part\n",
    "    tail = None #to track tail part for append\n",
    "    def prepend(self,value): #method to prepend new node at tail\n",
    "        temp = Node(value)\n",
    "        temp.next = self.head\n",
    "        self.head = temp\n",
    "        if self.head.next == None: #handling boundary cases\n",
    "            self.tail = self.head\n",
    "    def appendList(self,values): #method to append a List to the Linked List\n",
    "        for each in values:\n",
    "            self.append(each)\n",
    "        return\n",
    "    def prependList(self,values): #method to prepend a List\n",
    "        for each in values:\n",
    "            self.prepend(each)\n",
    "        return \n",
    "    def append(self,value): #method to append a value\n",
    "        temp = Node(value)\n",
    "        if self.tail == None:\n",
    "            self.head = temp\n",
    "            self.tail = temp\n",
    "            return\n",
    "        self.tail.next = temp\n",
    "        self.tail = temp\n",
    "        return\n",
    "    def deleteNode(self,value): #method to delete a node \n",
    "        if self.head == None or (self.head.value == value):\n",
    "            return\n",
    "        temp = self.head\n",
    "        while temp.next!= None:\n",
    "            if temp.next.value == value:\n",
    "                temp.next = temp.next.next\n",
    "                return\n",
    "            else:\n",
    "                temp = temp.next\n",
    "        return\n",
    "    def printList(self): #print a list\n",
    "        temp = self.head\n",
    "        while temp != None:\n",
    "            if temp.next != None:\n",
    "                print (temp.value,end=\"-> \")\n",
    "                temp = temp.next\n",
    "            else:\n",
    "                print(temp.value)\n",
    "                temp = temp.next\n",
    "        return"
   ]
  },
  {
   "cell_type": "code",
   "execution_count": null,
   "metadata": {},
   "outputs": [],
   "source": []
  },
  {
   "cell_type": "code",
   "execution_count": 68,
   "metadata": {},
   "outputs": [
    {
     "name": "stdout",
     "output_type": "stream",
     "text": [
      "head value now : 22\n",
      "present list is: \n",
      "34-> 22-> 2\n",
      "tail value 2\n",
      "34-> 22-> 2-> 1-> 2-> 3-> 4-> 5-> 6-> 7\n",
      "7-> 6-> 5-> 4-> 3-> 2-> 1-> 34-> 22-> 2-> 1-> 2-> 3-> 4-> 5-> 6-> 7\n"
     ]
    }
   ],
   "source": [
    "# working structure of singly linked list example\n",
    "lList = linkedList() # Linked List Initialization\n",
    "lList.prepend(2) # prepend an  element\n",
    "lList.prepend(22)\n",
    "print (\"head value now :\",lList.head.value) \n",
    "lList.prepend(34)\n",
    "print (\"present list is: \",)\n",
    "lList.printList()\n",
    "print (\"tail value\",lList.tail.value) \n",
    "lList.appendList([1,2,3,4,5,6,7])\n",
    "lList.printList()\n",
    "lList.prependList([1,2,3,4,5,6,7])\n",
    "lList.printList()"
   ]
  },
  {
   "cell_type": "markdown",
   "metadata": {},
   "source": [
    "Assuming Linked Lists as Singly Linked Lists for the all the questions solved below. For making it more reasonable"
   ]
  },
  {
   "cell_type": "markdown",
   "metadata": {},
   "source": [
    "# 2.1 Remove Dups:\n",
    "Write code to remove duplicates from an unsorted linked list.<br>"
   ]
  },
  {
   "cell_type": "markdown",
   "metadata": {},
   "source": [
    "Approach: we just keep track of all the elements using a set and delete something which is alreay seen.<br>\n",
    "Time Complexity: O(n)<br>\n",
    "Space Complexity: O(n) <br>"
   ]
  },
  {
   "cell_type": "code",
   "execution_count": 65,
   "metadata": {},
   "outputs": [],
   "source": [
    "def RemoveDups(head):\n",
    "    temp = head\n",
    "    if temp == None:\n",
    "        return\n",
    "    seenValues = set()\n",
    "    seenValues.add(temp.value)\n",
    "    while temp.next!= None:\n",
    "        if temp.next.value in seenValues:\n",
    "            temp.next = temp.next.next\n",
    "        else:\n",
    "            seenValues.add(temp.value)\n",
    "            temp = temp.next\n",
    "    return"
   ]
  },
  {
   "cell_type": "code",
   "execution_count": 66,
   "metadata": {},
   "outputs": [
    {
     "name": "stdout",
     "output_type": "stream",
     "text": [
      "7-> 6-> 5-> 4-> 3-> 2-> 1-> 34-> 22-> 2-> 1-> 2-> 3-> 4-> 5-> 6\n",
      "7-> 6-> 5-> 4-> 3-> 2-> 1-> 34-> 22\n"
     ]
    }
   ],
   "source": [
    "lList.printList()\n",
    "RemoveDups(lList.head)\n",
    "lList.printList()"
   ]
  },
  {
   "cell_type": "markdown",
   "metadata": {},
   "source": [
    "# FOLLOW UP\n",
    "How would you solve this problem if a temporary buffer is not allowed?<br>\n",
    "Approach : Just like we do it with a Nested For Loop: Iterate and delete<br>\n",
    "Time Complexity : O($N^{2}$)\n",
    "Space Complexity : O(1) "
   ]
  },
  {
   "cell_type": "code",
   "execution_count": 67,
   "metadata": {},
   "outputs": [],
   "source": [
    "def removeDupsFollowUp(head):\n",
    "    temp = head\n",
    "    if temp == None:\n",
    "        return\n",
    "    while temp.next!= None:\n",
    "        temp2 = temp.next\n",
    "        while temp2!=None:\n",
    "            if temp.value == temp2.value:\n",
    "                if temp2.next != None:\n",
    "                    temp2.value = temp2.value\n",
    "                    temp2.next = temp2.next.next\n",
    "                    temp2 = temp2.next\n",
    "                else:\n",
    "                    temp2 = None\n",
    "    return"
   ]
  },
  {
   "cell_type": "code",
   "execution_count": 69,
   "metadata": {},
   "outputs": [
    {
     "name": "stdout",
     "output_type": "stream",
     "text": [
      "7-> 6-> 5-> 4-> 3-> 2-> 1-> 34-> 22-> 2-> 1-> 2-> 3-> 4-> 5-> 6-> 7\n",
      "7-> 6-> 5-> 4-> 3-> 2-> 1-> 34-> 22\n"
     ]
    }
   ],
   "source": [
    "lList.printList()\n",
    "RemoveDups(lList.head)\n",
    "lList.printList()"
   ]
  },
  {
   "cell_type": "markdown",
   "metadata": {},
   "source": [
    "# Return Kth to Last:\n",
    "Implement an algorithm to find the kth to last element of a singly linked list.<br>\n",
    "Approach : The \"Runner\" Technique: We can iterate through the Linked List with two pointers at the same time. We use similar techniques for finding middle element too. <br>\n",
    "Time Compplexity: O(N)<br>\n",
    "Space Complexity: O(1)"
   ]
  },
  {
   "cell_type": "code",
   "execution_count": 70,
   "metadata": {},
   "outputs": [],
   "source": [
    "def kthElement(head,k):\n",
    "    if head == None:\n",
    "        return None\n",
    "    slowP,fastP = head, head\n",
    "    slowCount, fastCount = 0,0\n",
    "    while fastP!= None:\n",
    "        if fastCount - slowCount != k:\n",
    "            continue\n",
    "        else:\n",
    "            slowCount += 1\n",
    "            slowP = slowP.next\n",
    "        fastP = fastP.next\n",
    "        fastCount += 1\n",
    "    if fastCount - slowCount == k:\n",
    "        return slowP\n",
    "    return None"
   ]
  },
  {
   "cell_type": "code",
   "execution_count": 74,
   "metadata": {},
   "outputs": [
    {
     "ename": "SyntaxError",
     "evalue": "invalid syntax (<ipython-input-74-366f51bcf588>, line 3)",
     "output_type": "error",
     "traceback": [
      "\u001b[0;36m  File \u001b[0;32m\"<ipython-input-74-366f51bcf588>\"\u001b[0;36m, line \u001b[0;32m3\u001b[0m\n\u001b[0;31m    value = kthElement(lList) == None? None : kElement.value\u001b[0m\n\u001b[0m                                     ^\u001b[0m\n\u001b[0;31mSyntaxError\u001b[0m\u001b[0;31m:\u001b[0m invalid syntax\n"
     ]
    }
   ],
   "source": [
    "lList.printList()\n",
    "kElement = kthElement(lList.head,3)\n",
    "value = KElement if kthElement(lList) == None eks None : kElement.value\n",
    "print(value)"
   ]
  },
  {
   "cell_type": "code",
   "execution_count": null,
   "metadata": {},
   "outputs": [],
   "source": []
  },
  {
   "cell_type": "code",
   "execution_count": null,
   "metadata": {},
   "outputs": [],
   "source": []
  },
  {
   "cell_type": "code",
   "execution_count": 52,
   "metadata": {},
   "outputs": [],
   "source": []
  },
  {
   "cell_type": "code",
   "execution_count": null,
   "metadata": {},
   "outputs": [],
   "source": []
  },
  {
   "cell_type": "code",
   "execution_count": null,
   "metadata": {},
   "outputs": [],
   "source": []
  },
  {
   "cell_type": "code",
   "execution_count": null,
   "metadata": {},
   "outputs": [],
   "source": []
  },
  {
   "cell_type": "markdown",
   "metadata": {},
   "source": [
    "![Drag Racing](o.jpg)"
   ]
  },
  {
   "cell_type": "code",
   "execution_count": null,
   "metadata": {},
   "outputs": [],
   "source": []
  }
 ],
 "metadata": {
  "kernelspec": {
   "display_name": "Python 3",
   "language": "python",
   "name": "python3"
  },
  "language_info": {
   "codemirror_mode": {
    "name": "ipython",
    "version": 3
   },
   "file_extension": ".py",
   "mimetype": "text/x-python",
   "name": "python",
   "nbconvert_exporter": "python",
   "pygments_lexer": "ipython3",
   "version": "3.6.4"
  }
 },
 "nbformat": 4,
 "nbformat_minor": 2
}
